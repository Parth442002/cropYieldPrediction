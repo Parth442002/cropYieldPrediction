{
 "cells": [
  {
   "cell_type": "code",
   "execution_count": 22,
   "id": "67700933",
   "metadata": {},
   "outputs": [],
   "source": [
    "import pandas as pd \n",
    "import matplotlib.pyplot as plt \n",
    "import numpy as np \n",
    "import dtale\n",
    "import seaborn as sns\n",
    "from plotnine import aes,ggplot,geom_bar,theme_minimal,coord_flip,scale_x_discrete,guides,labs,geom_line"
   ]
  },
  {
   "cell_type": "code",
   "execution_count": 2,
   "id": "353da2ad",
   "metadata": {},
   "outputs": [
    {
     "data": {
      "text/html": [
       "<div>\n",
       "<style scoped>\n",
       "    .dataframe tbody tr th:only-of-type {\n",
       "        vertical-align: middle;\n",
       "    }\n",
       "\n",
       "    .dataframe tbody tr th {\n",
       "        vertical-align: top;\n",
       "    }\n",
       "\n",
       "    .dataframe thead th {\n",
       "        text-align: right;\n",
       "    }\n",
       "</style>\n",
       "<table border=\"1\" class=\"dataframe\">\n",
       "  <thead>\n",
       "    <tr style=\"text-align: right;\">\n",
       "      <th></th>\n",
       "      <th>Area</th>\n",
       "      <th>Item</th>\n",
       "      <th>Year</th>\n",
       "      <th>Yield</th>\n",
       "      <th>Pest</th>\n",
       "      <th>Rainfall</th>\n",
       "      <th>Temp</th>\n",
       "    </tr>\n",
       "  </thead>\n",
       "  <tbody>\n",
       "    <tr>\n",
       "      <th>0</th>\n",
       "      <td>Albania</td>\n",
       "      <td>Maize</td>\n",
       "      <td>1990</td>\n",
       "      <td>36613</td>\n",
       "      <td>121.0</td>\n",
       "      <td>1485</td>\n",
       "      <td>16.37</td>\n",
       "    </tr>\n",
       "    <tr>\n",
       "      <th>1</th>\n",
       "      <td>Albania</td>\n",
       "      <td>Potatoes</td>\n",
       "      <td>1990</td>\n",
       "      <td>66667</td>\n",
       "      <td>121.0</td>\n",
       "      <td>1485</td>\n",
       "      <td>16.37</td>\n",
       "    </tr>\n",
       "    <tr>\n",
       "      <th>2</th>\n",
       "      <td>Albania</td>\n",
       "      <td>Rice, paddy</td>\n",
       "      <td>1990</td>\n",
       "      <td>23333</td>\n",
       "      <td>121.0</td>\n",
       "      <td>1485</td>\n",
       "      <td>16.37</td>\n",
       "    </tr>\n",
       "    <tr>\n",
       "      <th>3</th>\n",
       "      <td>Albania</td>\n",
       "      <td>Sorghum</td>\n",
       "      <td>1990</td>\n",
       "      <td>12500</td>\n",
       "      <td>121.0</td>\n",
       "      <td>1485</td>\n",
       "      <td>16.37</td>\n",
       "    </tr>\n",
       "    <tr>\n",
       "      <th>4</th>\n",
       "      <td>Albania</td>\n",
       "      <td>Soybeans</td>\n",
       "      <td>1990</td>\n",
       "      <td>7000</td>\n",
       "      <td>121.0</td>\n",
       "      <td>1485</td>\n",
       "      <td>16.37</td>\n",
       "    </tr>\n",
       "  </tbody>\n",
       "</table>\n",
       "</div>"
      ],
      "text/plain": [
       "      Area         Item  Year  Yield   Pest Rainfall   Temp\n",
       "0  Albania        Maize  1990  36613  121.0     1485  16.37\n",
       "1  Albania     Potatoes  1990  66667  121.0     1485  16.37\n",
       "2  Albania  Rice, paddy  1990  23333  121.0     1485  16.37\n",
       "3  Albania      Sorghum  1990  12500  121.0     1485  16.37\n",
       "4  Albania     Soybeans  1990   7000  121.0     1485  16.37"
      ]
     },
     "execution_count": 2,
     "metadata": {},
     "output_type": "execute_result"
    }
   ],
   "source": [
    "data=pd.read_csv(\"../data/Final.csv\")\n",
    "data.head(5)"
   ]
  },
  {
   "cell_type": "markdown",
   "id": "dd80b180",
   "metadata": {},
   "source": [
    "# DataFrame Information"
   ]
  },
  {
   "cell_type": "code",
   "execution_count": 3,
   "id": "7c0b0d95",
   "metadata": {},
   "outputs": [
    {
     "name": "stdout",
     "output_type": "stream",
     "text": [
      "<class 'pandas.core.frame.DataFrame'>\n",
      "RangeIndex: 28248 entries, 0 to 28247\n",
      "Data columns (total 7 columns):\n",
      " #   Column    Non-Null Count  Dtype  \n",
      "---  ------    --------------  -----  \n",
      " 0   Area      28248 non-null  object \n",
      " 1   Item      28248 non-null  object \n",
      " 2   Year      28248 non-null  int64  \n",
      " 3   Yield     28248 non-null  int64  \n",
      " 4   Pest      28248 non-null  float64\n",
      " 5   Rainfall  28248 non-null  object \n",
      " 6   Temp      28248 non-null  float64\n",
      "dtypes: float64(2), int64(2), object(3)\n",
      "memory usage: 1.5+ MB\n"
     ]
    }
   ],
   "source": [
    "data.info()"
   ]
  },
  {
   "cell_type": "code",
   "execution_count": 4,
   "id": "48df8d1f",
   "metadata": {},
   "outputs": [
    {
     "data": {
      "text/html": [
       "<div>\n",
       "<style scoped>\n",
       "    .dataframe tbody tr th:only-of-type {\n",
       "        vertical-align: middle;\n",
       "    }\n",
       "\n",
       "    .dataframe tbody tr th {\n",
       "        vertical-align: top;\n",
       "    }\n",
       "\n",
       "    .dataframe thead th {\n",
       "        text-align: right;\n",
       "    }\n",
       "</style>\n",
       "<table border=\"1\" class=\"dataframe\">\n",
       "  <thead>\n",
       "    <tr style=\"text-align: right;\">\n",
       "      <th></th>\n",
       "      <th>Year</th>\n",
       "      <th>Yield</th>\n",
       "      <th>Pest</th>\n",
       "      <th>Temp</th>\n",
       "    </tr>\n",
       "  </thead>\n",
       "  <tbody>\n",
       "    <tr>\n",
       "      <th>count</th>\n",
       "      <td>28248.000000</td>\n",
       "      <td>28248.000000</td>\n",
       "      <td>28248.000000</td>\n",
       "      <td>28248.000000</td>\n",
       "    </tr>\n",
       "    <tr>\n",
       "      <th>mean</th>\n",
       "      <td>2001.541950</td>\n",
       "      <td>77047.863282</td>\n",
       "      <td>37069.136973</td>\n",
       "      <td>20.543722</td>\n",
       "    </tr>\n",
       "    <tr>\n",
       "      <th>std</th>\n",
       "      <td>7.052997</td>\n",
       "      <td>84950.194454</td>\n",
       "      <td>59954.787836</td>\n",
       "      <td>6.311828</td>\n",
       "    </tr>\n",
       "    <tr>\n",
       "      <th>min</th>\n",
       "      <td>1990.000000</td>\n",
       "      <td>50.000000</td>\n",
       "      <td>0.040000</td>\n",
       "      <td>1.300000</td>\n",
       "    </tr>\n",
       "    <tr>\n",
       "      <th>25%</th>\n",
       "      <td>1995.000000</td>\n",
       "      <td>19918.750000</td>\n",
       "      <td>1695.710000</td>\n",
       "      <td>16.710000</td>\n",
       "    </tr>\n",
       "    <tr>\n",
       "      <th>50%</th>\n",
       "      <td>2001.000000</td>\n",
       "      <td>38295.000000</td>\n",
       "      <td>17517.760000</td>\n",
       "      <td>21.510000</td>\n",
       "    </tr>\n",
       "    <tr>\n",
       "      <th>75%</th>\n",
       "      <td>2008.000000</td>\n",
       "      <td>104598.250000</td>\n",
       "      <td>48687.880000</td>\n",
       "      <td>26.000000</td>\n",
       "    </tr>\n",
       "    <tr>\n",
       "      <th>max</th>\n",
       "      <td>2013.000000</td>\n",
       "      <td>501412.000000</td>\n",
       "      <td>367778.000000</td>\n",
       "      <td>30.650000</td>\n",
       "    </tr>\n",
       "  </tbody>\n",
       "</table>\n",
       "</div>"
      ],
      "text/plain": [
       "               Year          Yield           Pest          Temp\n",
       "count  28248.000000   28248.000000   28248.000000  28248.000000\n",
       "mean    2001.541950   77047.863282   37069.136973     20.543722\n",
       "std        7.052997   84950.194454   59954.787836      6.311828\n",
       "min     1990.000000      50.000000       0.040000      1.300000\n",
       "25%     1995.000000   19918.750000    1695.710000     16.710000\n",
       "50%     2001.000000   38295.000000   17517.760000     21.510000\n",
       "75%     2008.000000  104598.250000   48687.880000     26.000000\n",
       "max     2013.000000  501412.000000  367778.000000     30.650000"
      ]
     },
     "execution_count": 4,
     "metadata": {},
     "output_type": "execute_result"
    }
   ],
   "source": [
    "data.describe()"
   ]
  },
  {
   "cell_type": "markdown",
   "id": "f0020ce3",
   "metadata": {},
   "source": [
    "### Checking for Null Values"
   ]
  },
  {
   "cell_type": "code",
   "execution_count": 5,
   "id": "e15c379d",
   "metadata": {},
   "outputs": [
    {
     "data": {
      "text/plain": [
       "Area        0\n",
       "Item        0\n",
       "Year        0\n",
       "Yield       0\n",
       "Pest        0\n",
       "Rainfall    0\n",
       "Temp        0\n",
       "dtype: int64"
      ]
     },
     "execution_count": 5,
     "metadata": {},
     "output_type": "execute_result"
    }
   ],
   "source": [
    "data.isna().sum()"
   ]
  },
  {
   "cell_type": "code",
   "execution_count": 6,
   "id": "88cbde1f",
   "metadata": {},
   "outputs": [
    {
     "data": {
      "text/plain": [
       "Area         object\n",
       "Item         object\n",
       "Year          int64\n",
       "Yield         int64\n",
       "Pest        float64\n",
       "Rainfall     object\n",
       "Temp        float64\n",
       "dtype: object"
      ]
     },
     "execution_count": 6,
     "metadata": {},
     "output_type": "execute_result"
    }
   ],
   "source": [
    "data.dtypes"
   ]
  },
  {
   "cell_type": "code",
   "execution_count": 7,
   "id": "7e41a7b0",
   "metadata": {},
   "outputs": [],
   "source": [
    "from ydata_profiling import ProfileReport"
   ]
  },
  {
   "cell_type": "code",
   "execution_count": 8,
   "id": "cb212a44",
   "metadata": {},
   "outputs": [],
   "source": [
    "report=ProfileReport(data, title=\"Yield Prediction Data Analysis\")"
   ]
  },
  {
   "cell_type": "code",
   "execution_count": 9,
   "id": "cb48f117",
   "metadata": {},
   "outputs": [
    {
     "data": {
      "application/vnd.jupyter.widget-view+json": {
       "model_id": "fff803ddf9834bd8a772b83fedc22d80",
       "version_major": 2,
       "version_minor": 0
      },
      "text/plain": [
       "Summarize dataset:   0%|          | 0/5 [00:00<?, ?it/s]"
      ]
     },
     "metadata": {},
     "output_type": "display_data"
    },
    {
     "data": {
      "application/vnd.jupyter.widget-view+json": {
       "model_id": "14aaafcc08234006a1411507b8481cbe",
       "version_major": 2,
       "version_minor": 0
      },
      "text/plain": [
       "Generate report structure:   0%|          | 0/1 [00:00<?, ?it/s]"
      ]
     },
     "metadata": {},
     "output_type": "display_data"
    },
    {
     "data": {
      "application/vnd.jupyter.widget-view+json": {
       "model_id": "64c2acee256d47ed8784067fc51f9851",
       "version_major": 2,
       "version_minor": 0
      },
      "text/plain": [
       "Render widgets:   0%|          | 0/1 [00:00<?, ?it/s]"
      ]
     },
     "metadata": {},
     "output_type": "display_data"
    },
    {
     "data": {
      "application/vnd.jupyter.widget-view+json": {
       "model_id": "325a09f9291340e0b208328ea0fd411a",
       "version_major": 2,
       "version_minor": 0
      },
      "text/plain": [
       "VBox(children=(Tab(children=(Tab(children=(GridBox(children=(VBox(children=(GridspecLayout(children=(HTML(valu…"
      ]
     },
     "metadata": {},
     "output_type": "display_data"
    }
   ],
   "source": [
    "report.to_widgets()"
   ]
  },
  {
   "cell_type": "code",
   "execution_count": 13,
   "id": "4868f243",
   "metadata": {},
   "outputs": [
    {
     "data": {
      "application/vnd.jupyter.widget-view+json": {
       "model_id": "a733ab7a06184961a1093f0a7a792c52",
       "version_major": 2,
       "version_minor": 0
      },
      "text/plain": [
       "Render HTML:   0%|          | 0/1 [00:00<?, ?it/s]"
      ]
     },
     "metadata": {},
     "output_type": "display_data"
    },
    {
     "name": "stderr",
     "output_type": "stream",
     "text": [
      "/Users/parthkatiyar/miniforge3/envs/ai/lib/python3.8/site-packages/ydata_profiling/profile_report.py:355: UserWarning:\n",
      "\n",
      "Extension .pdf not supported. For now we assume .html was intended. To remove this warning, please use .html or .json.\n",
      "\n"
     ]
    },
    {
     "data": {
      "application/vnd.jupyter.widget-view+json": {
       "model_id": "526e787c318846bfb60ae3bdd36c1194",
       "version_major": 2,
       "version_minor": 0
      },
      "text/plain": [
       "Export report to file:   0%|          | 0/1 [00:00<?, ?it/s]"
      ]
     },
     "metadata": {},
     "output_type": "display_data"
    }
   ],
   "source": [
    "report.to_file(\"./EDAReport.pdf\")"
   ]
  },
  {
   "cell_type": "markdown",
   "id": "9de2fffb",
   "metadata": {},
   "source": [
    "# ⚠️InDepth Analysis\n"
   ]
  },
  {
   "cell_type": "code",
   "execution_count": 10,
   "id": "b0bf0f73",
   "metadata": {},
   "outputs": [
    {
     "data": {
      "text/html": [
       "<div>\n",
       "<style scoped>\n",
       "    .dataframe tbody tr th:only-of-type {\n",
       "        vertical-align: middle;\n",
       "    }\n",
       "\n",
       "    .dataframe tbody tr th {\n",
       "        vertical-align: top;\n",
       "    }\n",
       "\n",
       "    .dataframe thead th {\n",
       "        text-align: right;\n",
       "    }\n",
       "</style>\n",
       "<table border=\"1\" class=\"dataframe\">\n",
       "  <thead>\n",
       "    <tr style=\"text-align: right;\">\n",
       "      <th></th>\n",
       "      <th>Area</th>\n",
       "      <th>Item</th>\n",
       "      <th>Year</th>\n",
       "      <th>Yield</th>\n",
       "      <th>Pest</th>\n",
       "      <th>Rainfall</th>\n",
       "      <th>Temp</th>\n",
       "    </tr>\n",
       "  </thead>\n",
       "  <tbody>\n",
       "    <tr>\n",
       "      <th>0</th>\n",
       "      <td>Albania</td>\n",
       "      <td>Maize</td>\n",
       "      <td>1990</td>\n",
       "      <td>36613</td>\n",
       "      <td>121.0</td>\n",
       "      <td>1485</td>\n",
       "      <td>16.37</td>\n",
       "    </tr>\n",
       "    <tr>\n",
       "      <th>1</th>\n",
       "      <td>Albania</td>\n",
       "      <td>Potatoes</td>\n",
       "      <td>1990</td>\n",
       "      <td>66667</td>\n",
       "      <td>121.0</td>\n",
       "      <td>1485</td>\n",
       "      <td>16.37</td>\n",
       "    </tr>\n",
       "    <tr>\n",
       "      <th>2</th>\n",
       "      <td>Albania</td>\n",
       "      <td>Rice, paddy</td>\n",
       "      <td>1990</td>\n",
       "      <td>23333</td>\n",
       "      <td>121.0</td>\n",
       "      <td>1485</td>\n",
       "      <td>16.37</td>\n",
       "    </tr>\n",
       "    <tr>\n",
       "      <th>3</th>\n",
       "      <td>Albania</td>\n",
       "      <td>Sorghum</td>\n",
       "      <td>1990</td>\n",
       "      <td>12500</td>\n",
       "      <td>121.0</td>\n",
       "      <td>1485</td>\n",
       "      <td>16.37</td>\n",
       "    </tr>\n",
       "    <tr>\n",
       "      <th>4</th>\n",
       "      <td>Albania</td>\n",
       "      <td>Soybeans</td>\n",
       "      <td>1990</td>\n",
       "      <td>7000</td>\n",
       "      <td>121.0</td>\n",
       "      <td>1485</td>\n",
       "      <td>16.37</td>\n",
       "    </tr>\n",
       "    <tr>\n",
       "      <th>5</th>\n",
       "      <td>Albania</td>\n",
       "      <td>Wheat</td>\n",
       "      <td>1990</td>\n",
       "      <td>30197</td>\n",
       "      <td>121.0</td>\n",
       "      <td>1485</td>\n",
       "      <td>16.37</td>\n",
       "    </tr>\n",
       "    <tr>\n",
       "      <th>6</th>\n",
       "      <td>Albania</td>\n",
       "      <td>Maize</td>\n",
       "      <td>1991</td>\n",
       "      <td>29068</td>\n",
       "      <td>121.0</td>\n",
       "      <td>1485</td>\n",
       "      <td>15.36</td>\n",
       "    </tr>\n",
       "    <tr>\n",
       "      <th>7</th>\n",
       "      <td>Albania</td>\n",
       "      <td>Potatoes</td>\n",
       "      <td>1991</td>\n",
       "      <td>77818</td>\n",
       "      <td>121.0</td>\n",
       "      <td>1485</td>\n",
       "      <td>15.36</td>\n",
       "    </tr>\n",
       "    <tr>\n",
       "      <th>8</th>\n",
       "      <td>Albania</td>\n",
       "      <td>Rice, paddy</td>\n",
       "      <td>1991</td>\n",
       "      <td>28538</td>\n",
       "      <td>121.0</td>\n",
       "      <td>1485</td>\n",
       "      <td>15.36</td>\n",
       "    </tr>\n",
       "    <tr>\n",
       "      <th>9</th>\n",
       "      <td>Albania</td>\n",
       "      <td>Sorghum</td>\n",
       "      <td>1991</td>\n",
       "      <td>6667</td>\n",
       "      <td>121.0</td>\n",
       "      <td>1485</td>\n",
       "      <td>15.36</td>\n",
       "    </tr>\n",
       "  </tbody>\n",
       "</table>\n",
       "</div>"
      ],
      "text/plain": [
       "      Area         Item  Year  Yield   Pest Rainfall   Temp\n",
       "0  Albania        Maize  1990  36613  121.0     1485  16.37\n",
       "1  Albania     Potatoes  1990  66667  121.0     1485  16.37\n",
       "2  Albania  Rice, paddy  1990  23333  121.0     1485  16.37\n",
       "3  Albania      Sorghum  1990  12500  121.0     1485  16.37\n",
       "4  Albania     Soybeans  1990   7000  121.0     1485  16.37\n",
       "5  Albania        Wheat  1990  30197  121.0     1485  16.37\n",
       "6  Albania        Maize  1991  29068  121.0     1485  15.36\n",
       "7  Albania     Potatoes  1991  77818  121.0     1485  15.36\n",
       "8  Albania  Rice, paddy  1991  28538  121.0     1485  15.36\n",
       "9  Albania      Sorghum  1991   6667  121.0     1485  15.36"
      ]
     },
     "execution_count": 10,
     "metadata": {},
     "output_type": "execute_result"
    }
   ],
   "source": [
    "data.head(10)"
   ]
  },
  {
   "cell_type": "code",
   "execution_count": 20,
   "id": "fe977cdd",
   "metadata": {},
   "outputs": [
    {
     "name": "stdout",
     "output_type": "stream",
     "text": [
      "                   Item      Yield\n",
      "3              Potatoes  854351426\n",
      "7        Sweet potatoes  344146527\n",
      "0               Cassava  307937177\n",
      "1                 Maize  149665468\n",
      "4           Rice, paddy  137994713\n",
      "8                 Wheat  116158445\n",
      "9                  Yams   96676873\n",
      "2  Plantains and others   58958974\n",
      "5               Sorghum   56634127\n",
      "6              Soybeans   53924312\n"
     ]
    },
    {
     "name": "stderr",
     "output_type": "stream",
     "text": [
      "/Users/parthkatiyar/miniforge3/envs/Ai/lib/python3.8/site-packages/plotnine/ggplot.py:718: PlotnineWarning: Saving 6.4 x 4.8 in image.\n",
      "/Users/parthkatiyar/miniforge3/envs/Ai/lib/python3.8/site-packages/plotnine/ggplot.py:719: PlotnineWarning: Filename: ../visualizations/yieldPlot.png\n"
     ]
    }
   ],
   "source": [
    "#Representation of crop as per yield \n",
    "df1=data.groupby(['Item'])['Yield'].aggregate('sum').reset_index(name='Yield') #creation of dataframe based on cropwise yield\n",
    "df_1=df1.sort_values(by=['Yield'], ascending=False) #Sorting of values as per order of yield\n",
    "print(df_1) #printing\n",
    "\n",
    "p=ggplot(df_1, aes(x='Item',y='Yield',fill='Item'))+ geom_bar(stat=\"identity\")+theme_minimal()+coord_flip()+ scale_x_discrete(limits=df_1['Item'].tolist()[::-1]) #plotting yield and crop using ggplot\n",
    "p=p+guides(fill = False, color = False, linetype = False, shape = False)#removing redundant legends \n",
    "p+labs(title = \"Crop-wise yield barplot\",x = \"Item\", y = \"Yield\") #adding up title and labels to thr x and y axis\n",
    "p.save(filename=\"../visualizations/yieldPlot.png\")"
   ]
  },
  {
   "attachments": {},
   "cell_type": "markdown",
   "id": "b765d069",
   "metadata": {},
   "source": [
    "### Usuage of Pesticides"
   ]
  },
  {
   "cell_type": "code",
   "execution_count": 25,
   "id": "1b5fca56",
   "metadata": {},
   "outputs": [
    {
     "ename": "PlotnineError",
     "evalue": "\"Could not evaluate the 'y' mapping: 'Pest' (original error: name 'Pest' is not defined)\"",
     "output_type": "error",
     "traceback": [
      "\u001b[0;31m---------------------------------------------------------------------------\u001b[0m",
      "\u001b[0;31mNameError\u001b[0m                                 Traceback (most recent call last)",
      "File \u001b[0;32m~/miniforge3/envs/Ai/lib/python3.8/site-packages/plotnine/mapping/evaluation.py:219\u001b[0m, in \u001b[0;36mevaluate\u001b[0;34m(aesthetics, data, env)\u001b[0m\n\u001b[1;32m    218\u001b[0m \u001b[39mtry\u001b[39;00m:\n\u001b[0;32m--> 219\u001b[0m     new_val \u001b[39m=\u001b[39m env\u001b[39m.\u001b[39;49meval(col, inner_namespace\u001b[39m=\u001b[39;49mdata)\n\u001b[1;32m    220\u001b[0m \u001b[39mexcept\u001b[39;00m \u001b[39mException\u001b[39;00m \u001b[39mas\u001b[39;00m e:\n",
      "File \u001b[0;32m~/miniforge3/envs/Ai/lib/python3.8/site-packages/patsy/eval.py:169\u001b[0m, in \u001b[0;36mEvalEnvironment.eval\u001b[0;34m(self, expr, source_name, inner_namespace)\u001b[0m\n\u001b[1;32m    168\u001b[0m code \u001b[39m=\u001b[39m \u001b[39mcompile\u001b[39m(expr, source_name, \u001b[39m\"\u001b[39m\u001b[39meval\u001b[39m\u001b[39m\"\u001b[39m, \u001b[39mself\u001b[39m\u001b[39m.\u001b[39mflags, \u001b[39mFalse\u001b[39;00m)\n\u001b[0;32m--> 169\u001b[0m \u001b[39mreturn\u001b[39;00m \u001b[39meval\u001b[39;49m(code, {}, VarLookupDict([inner_namespace]\n\u001b[1;32m    170\u001b[0m                                     \u001b[39m+\u001b[39;49m \u001b[39mself\u001b[39;49m\u001b[39m.\u001b[39;49m_namespaces))\n",
      "File \u001b[0;32m<string>:1\u001b[0m\n",
      "\u001b[0;31mNameError\u001b[0m: name 'Pest' is not defined",
      "\nDuring handling of the above exception, another exception occurred:\n",
      "\u001b[0;31mPlotnineError\u001b[0m                             Traceback (most recent call last)",
      "File \u001b[0;32m~/miniforge3/envs/Ai/lib/python3.8/site-packages/IPython/core/formatters.py:706\u001b[0m, in \u001b[0;36mPlainTextFormatter.__call__\u001b[0;34m(self, obj)\u001b[0m\n\u001b[1;32m    699\u001b[0m stream \u001b[39m=\u001b[39m StringIO()\n\u001b[1;32m    700\u001b[0m printer \u001b[39m=\u001b[39m pretty\u001b[39m.\u001b[39mRepresentationPrinter(stream, \u001b[39mself\u001b[39m\u001b[39m.\u001b[39mverbose,\n\u001b[1;32m    701\u001b[0m     \u001b[39mself\u001b[39m\u001b[39m.\u001b[39mmax_width, \u001b[39mself\u001b[39m\u001b[39m.\u001b[39mnewline,\n\u001b[1;32m    702\u001b[0m     max_seq_length\u001b[39m=\u001b[39m\u001b[39mself\u001b[39m\u001b[39m.\u001b[39mmax_seq_length,\n\u001b[1;32m    703\u001b[0m     singleton_pprinters\u001b[39m=\u001b[39m\u001b[39mself\u001b[39m\u001b[39m.\u001b[39msingleton_printers,\n\u001b[1;32m    704\u001b[0m     type_pprinters\u001b[39m=\u001b[39m\u001b[39mself\u001b[39m\u001b[39m.\u001b[39mtype_printers,\n\u001b[1;32m    705\u001b[0m     deferred_pprinters\u001b[39m=\u001b[39m\u001b[39mself\u001b[39m\u001b[39m.\u001b[39mdeferred_printers)\n\u001b[0;32m--> 706\u001b[0m printer\u001b[39m.\u001b[39;49mpretty(obj)\n\u001b[1;32m    707\u001b[0m printer\u001b[39m.\u001b[39mflush()\n\u001b[1;32m    708\u001b[0m \u001b[39mreturn\u001b[39;00m stream\u001b[39m.\u001b[39mgetvalue()\n",
      "File \u001b[0;32m~/miniforge3/envs/Ai/lib/python3.8/site-packages/IPython/lib/pretty.py:410\u001b[0m, in \u001b[0;36mRepresentationPrinter.pretty\u001b[0;34m(self, obj)\u001b[0m\n\u001b[1;32m    407\u001b[0m                         \u001b[39mreturn\u001b[39;00m meth(obj, \u001b[39mself\u001b[39m, cycle)\n\u001b[1;32m    408\u001b[0m                 \u001b[39mif\u001b[39;00m \u001b[39mcls\u001b[39m \u001b[39mis\u001b[39;00m \u001b[39mnot\u001b[39;00m \u001b[39mobject\u001b[39m \\\n\u001b[1;32m    409\u001b[0m                         \u001b[39mand\u001b[39;00m callable(\u001b[39mcls\u001b[39m\u001b[39m.\u001b[39m\u001b[39m__dict__\u001b[39m\u001b[39m.\u001b[39mget(\u001b[39m'\u001b[39m\u001b[39m__repr__\u001b[39m\u001b[39m'\u001b[39m)):\n\u001b[0;32m--> 410\u001b[0m                     \u001b[39mreturn\u001b[39;00m _repr_pprint(obj, \u001b[39mself\u001b[39;49m, cycle)\n\u001b[1;32m    412\u001b[0m     \u001b[39mreturn\u001b[39;00m _default_pprint(obj, \u001b[39mself\u001b[39m, cycle)\n\u001b[1;32m    413\u001b[0m \u001b[39mfinally\u001b[39;00m:\n",
      "File \u001b[0;32m~/miniforge3/envs/Ai/lib/python3.8/site-packages/IPython/lib/pretty.py:778\u001b[0m, in \u001b[0;36m_repr_pprint\u001b[0;34m(obj, p, cycle)\u001b[0m\n\u001b[1;32m    776\u001b[0m \u001b[39m\u001b[39m\u001b[39m\"\"\"A pprint that just redirects to the normal repr function.\"\"\"\u001b[39;00m\n\u001b[1;32m    777\u001b[0m \u001b[39m# Find newlines and replace them with p.break_()\u001b[39;00m\n\u001b[0;32m--> 778\u001b[0m output \u001b[39m=\u001b[39m \u001b[39mrepr\u001b[39;49m(obj)\n\u001b[1;32m    779\u001b[0m lines \u001b[39m=\u001b[39m output\u001b[39m.\u001b[39msplitlines()\n\u001b[1;32m    780\u001b[0m \u001b[39mwith\u001b[39;00m p\u001b[39m.\u001b[39mgroup():\n",
      "File \u001b[0;32m~/miniforge3/envs/Ai/lib/python3.8/site-packages/plotnine/ggplot.py:95\u001b[0m, in \u001b[0;36mggplot.__repr__\u001b[0;34m(self)\u001b[0m\n\u001b[1;32m     91\u001b[0m \u001b[39mdef\u001b[39;00m \u001b[39m__repr__\u001b[39m(\u001b[39mself\u001b[39m):\n\u001b[1;32m     92\u001b[0m \u001b[39m    \u001b[39m\u001b[39m\"\"\"\u001b[39;00m\n\u001b[1;32m     93\u001b[0m \u001b[39m    Print/show the plot\u001b[39;00m\n\u001b[1;32m     94\u001b[0m \u001b[39m    \"\"\"\u001b[39;00m\n\u001b[0;32m---> 95\u001b[0m     \u001b[39mself\u001b[39;49m\u001b[39m.\u001b[39;49m\u001b[39m__str__\u001b[39;49m()\n\u001b[1;32m     96\u001b[0m     \u001b[39mreturn\u001b[39;00m \u001b[39m'\u001b[39m\u001b[39m<ggplot: (\u001b[39m\u001b[39m%d\u001b[39;00m\u001b[39m)>\u001b[39m\u001b[39m'\u001b[39m \u001b[39m%\u001b[39m \u001b[39mself\u001b[39m\u001b[39m.\u001b[39m\u001b[39m__hash__\u001b[39m()\n",
      "File \u001b[0;32m~/miniforge3/envs/Ai/lib/python3.8/site-packages/plotnine/ggplot.py:86\u001b[0m, in \u001b[0;36mggplot.__str__\u001b[0;34m(self)\u001b[0m\n\u001b[1;32m     82\u001b[0m \u001b[39mdef\u001b[39;00m \u001b[39m__str__\u001b[39m(\u001b[39mself\u001b[39m):\n\u001b[1;32m     83\u001b[0m \u001b[39m    \u001b[39m\u001b[39m\"\"\"\u001b[39;00m\n\u001b[1;32m     84\u001b[0m \u001b[39m    Print/show the plot\u001b[39;00m\n\u001b[1;32m     85\u001b[0m \u001b[39m    \"\"\"\u001b[39;00m\n\u001b[0;32m---> 86\u001b[0m     \u001b[39mself\u001b[39;49m\u001b[39m.\u001b[39;49mdraw(show\u001b[39m=\u001b[39;49m\u001b[39mTrue\u001b[39;49;00m)\n\u001b[1;32m     88\u001b[0m     \u001b[39m# Return and empty string so that print(p) is \"pretty\"\u001b[39;00m\n\u001b[1;32m     89\u001b[0m     \u001b[39mreturn\u001b[39;00m \u001b[39m'\u001b[39m\u001b[39m'\u001b[39m\n",
      "File \u001b[0;32m~/miniforge3/envs/Ai/lib/python3.8/site-packages/plotnine/ggplot.py:203\u001b[0m, in \u001b[0;36mggplot.draw\u001b[0;34m(self, return_ggplot, show)\u001b[0m\n\u001b[1;32m    201\u001b[0m \u001b[39mself\u001b[39m \u001b[39m=\u001b[39m deepcopy(\u001b[39mself\u001b[39m)\n\u001b[1;32m    202\u001b[0m \u001b[39mwith\u001b[39;00m plot_context(\u001b[39mself\u001b[39m, show\u001b[39m=\u001b[39mshow):\n\u001b[0;32m--> 203\u001b[0m     \u001b[39mself\u001b[39;49m\u001b[39m.\u001b[39;49m_build()\n\u001b[1;32m    205\u001b[0m     \u001b[39m# setup\u001b[39;00m\n\u001b[1;32m    206\u001b[0m     figure, axs \u001b[39m=\u001b[39m \u001b[39mself\u001b[39m\u001b[39m.\u001b[39m_create_figure()\n",
      "File \u001b[0;32m~/miniforge3/envs/Ai/lib/python3.8/site-packages/plotnine/ggplot.py:289\u001b[0m, in \u001b[0;36mggplot._build\u001b[0;34m(self)\u001b[0m\n\u001b[1;32m    285\u001b[0m layout\u001b[39m.\u001b[39msetup(layers, \u001b[39mself\u001b[39m)\n\u001b[1;32m    287\u001b[0m \u001b[39m# Compute aesthetics to produce data with generalised\u001b[39;00m\n\u001b[1;32m    288\u001b[0m \u001b[39m# variable names\u001b[39;00m\n\u001b[0;32m--> 289\u001b[0m layers\u001b[39m.\u001b[39;49mcompute_aesthetics(\u001b[39mself\u001b[39;49m)\n\u001b[1;32m    291\u001b[0m \u001b[39m# Transform data using all scales\u001b[39;00m\n\u001b[1;32m    292\u001b[0m layers\u001b[39m.\u001b[39mtransform(scales)\n",
      "File \u001b[0;32m~/miniforge3/envs/Ai/lib/python3.8/site-packages/plotnine/layer.py:67\u001b[0m, in \u001b[0;36mLayers.compute_aesthetics\u001b[0;34m(self, plot)\u001b[0m\n\u001b[1;32m     65\u001b[0m \u001b[39mdef\u001b[39;00m \u001b[39mcompute_aesthetics\u001b[39m(\u001b[39mself\u001b[39m, plot):\n\u001b[1;32m     66\u001b[0m     \u001b[39mfor\u001b[39;00m l \u001b[39min\u001b[39;00m \u001b[39mself\u001b[39m:\n\u001b[0;32m---> 67\u001b[0m         l\u001b[39m.\u001b[39;49mcompute_aesthetics(plot)\n",
      "File \u001b[0;32m~/miniforge3/envs/Ai/lib/python3.8/site-packages/plotnine/layer.py:309\u001b[0m, in \u001b[0;36mlayer.compute_aesthetics\u001b[0;34m(self, plot)\u001b[0m\n\u001b[1;32m    301\u001b[0m \u001b[39mdef\u001b[39;00m \u001b[39mcompute_aesthetics\u001b[39m(\u001b[39mself\u001b[39m, plot):\n\u001b[1;32m    302\u001b[0m \u001b[39m    \u001b[39m\u001b[39m\"\"\"\u001b[39;00m\n\u001b[1;32m    303\u001b[0m \u001b[39m    Return a dataframe where the columns match the\u001b[39;00m\n\u001b[1;32m    304\u001b[0m \u001b[39m    aesthetic mappings.\u001b[39;00m\n\u001b[0;32m   (...)\u001b[0m\n\u001b[1;32m    307\u001b[0m \u001b[39m    expression evaluation are  made in here\u001b[39;00m\n\u001b[1;32m    308\u001b[0m \u001b[39m    \"\"\"\u001b[39;00m\n\u001b[0;32m--> 309\u001b[0m     evaled \u001b[39m=\u001b[39m evaluate(\u001b[39mself\u001b[39;49m\u001b[39m.\u001b[39;49mmapping\u001b[39m.\u001b[39;49m_starting, \u001b[39mself\u001b[39;49m\u001b[39m.\u001b[39;49mdata, plot\u001b[39m.\u001b[39;49menvironment)\n\u001b[1;32m    310\u001b[0m     evaled_aes \u001b[39m=\u001b[39m aes(\u001b[39m*\u001b[39m\u001b[39m*\u001b[39m{col: col \u001b[39mfor\u001b[39;00m col \u001b[39min\u001b[39;00m evaled})\n\u001b[1;32m    311\u001b[0m     plot\u001b[39m.\u001b[39mscales\u001b[39m.\u001b[39madd_defaults(evaled, evaled_aes)\n",
      "File \u001b[0;32m~/miniforge3/envs/Ai/lib/python3.8/site-packages/plotnine/mapping/evaluation.py:221\u001b[0m, in \u001b[0;36mevaluate\u001b[0;34m(aesthetics, data, env)\u001b[0m\n\u001b[1;32m    219\u001b[0m     new_val \u001b[39m=\u001b[39m env\u001b[39m.\u001b[39meval(col, inner_namespace\u001b[39m=\u001b[39mdata)\n\u001b[1;32m    220\u001b[0m \u001b[39mexcept\u001b[39;00m \u001b[39mException\u001b[39;00m \u001b[39mas\u001b[39;00m e:\n\u001b[0;32m--> 221\u001b[0m     \u001b[39mraise\u001b[39;00m PlotnineError(\n\u001b[1;32m    222\u001b[0m         _TPL_EVAL_FAIL\u001b[39m.\u001b[39mformat(ae, col, \u001b[39mstr\u001b[39m(e)))\n\u001b[1;32m    224\u001b[0m \u001b[39mtry\u001b[39;00m:\n\u001b[1;32m    225\u001b[0m     evaled[ae] \u001b[39m=\u001b[39m new_val\n",
      "\u001b[0;31mPlotnineError\u001b[0m: \"Could not evaluate the 'y' mapping: 'Pest' (original error: name 'Pest' is not defined)\""
     ]
    }
   ],
   "source": [
    "#visualization of how use of pesticides increased in years\n",
    "df_py=data.groupby(['Year'])['Pest'].aggregate('sum').reset_index(name='pestcide') #creating dataframe yearwise total pesticide used\n",
    "#df_1=df1.sort_values(by=[''], ascending=False)\n",
    "#print(df_1)\n",
    "ggplot(df_py, aes('Year','Pest'))+ geom_line(colour='purple')+theme_minimal()+labs(title = \"Usage of Pesticides over the year\",x = \"Year\", y = \"Pesticides\")\n",
    "#ploting pasticide vs year using ggplot, changing of colour,theme, title, labels for better visualization"
   ]
  },
  {
   "cell_type": "code",
   "execution_count": null,
   "id": "5dfdf1a3",
   "metadata": {},
   "outputs": [],
   "source": []
  }
 ],
 "metadata": {
  "kernelspec": {
   "display_name": "Python 3 (ipykernel)",
   "language": "python",
   "name": "python3"
  },
  "language_info": {
   "codemirror_mode": {
    "name": "ipython",
    "version": 3
   },
   "file_extension": ".py",
   "mimetype": "text/x-python",
   "name": "python",
   "nbconvert_exporter": "python",
   "pygments_lexer": "ipython3",
   "version": "3.8.15"
  }
 },
 "nbformat": 4,
 "nbformat_minor": 5
}
