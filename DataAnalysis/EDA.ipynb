{
 "cells": [
  {
   "cell_type": "code",
   "execution_count": 1,
   "id": "67700933",
   "metadata": {},
   "outputs": [],
   "source": [
    "import pandas as pd \n",
    "import matplotlib.pyplot as plt \n",
    "import numpy as np \n",
    "import dtale"
   ]
  },
  {
   "cell_type": "code",
   "execution_count": 2,
   "id": "353da2ad",
   "metadata": {},
   "outputs": [
    {
     "data": {
      "text/html": [
       "<div>\n",
       "<style scoped>\n",
       "    .dataframe tbody tr th:only-of-type {\n",
       "        vertical-align: middle;\n",
       "    }\n",
       "\n",
       "    .dataframe tbody tr th {\n",
       "        vertical-align: top;\n",
       "    }\n",
       "\n",
       "    .dataframe thead th {\n",
       "        text-align: right;\n",
       "    }\n",
       "</style>\n",
       "<table border=\"1\" class=\"dataframe\">\n",
       "  <thead>\n",
       "    <tr style=\"text-align: right;\">\n",
       "      <th></th>\n",
       "      <th>Area</th>\n",
       "      <th>Item</th>\n",
       "      <th>Year</th>\n",
       "      <th>Yield</th>\n",
       "      <th>Pest</th>\n",
       "      <th>Rainfall</th>\n",
       "      <th>Temp</th>\n",
       "    </tr>\n",
       "  </thead>\n",
       "  <tbody>\n",
       "    <tr>\n",
       "      <th>0</th>\n",
       "      <td>Albania</td>\n",
       "      <td>Maize</td>\n",
       "      <td>1990</td>\n",
       "      <td>36613</td>\n",
       "      <td>121.0</td>\n",
       "      <td>1485</td>\n",
       "      <td>16.37</td>\n",
       "    </tr>\n",
       "    <tr>\n",
       "      <th>1</th>\n",
       "      <td>Albania</td>\n",
       "      <td>Potatoes</td>\n",
       "      <td>1990</td>\n",
       "      <td>66667</td>\n",
       "      <td>121.0</td>\n",
       "      <td>1485</td>\n",
       "      <td>16.37</td>\n",
       "    </tr>\n",
       "    <tr>\n",
       "      <th>2</th>\n",
       "      <td>Albania</td>\n",
       "      <td>Rice, paddy</td>\n",
       "      <td>1990</td>\n",
       "      <td>23333</td>\n",
       "      <td>121.0</td>\n",
       "      <td>1485</td>\n",
       "      <td>16.37</td>\n",
       "    </tr>\n",
       "    <tr>\n",
       "      <th>3</th>\n",
       "      <td>Albania</td>\n",
       "      <td>Sorghum</td>\n",
       "      <td>1990</td>\n",
       "      <td>12500</td>\n",
       "      <td>121.0</td>\n",
       "      <td>1485</td>\n",
       "      <td>16.37</td>\n",
       "    </tr>\n",
       "    <tr>\n",
       "      <th>4</th>\n",
       "      <td>Albania</td>\n",
       "      <td>Soybeans</td>\n",
       "      <td>1990</td>\n",
       "      <td>7000</td>\n",
       "      <td>121.0</td>\n",
       "      <td>1485</td>\n",
       "      <td>16.37</td>\n",
       "    </tr>\n",
       "  </tbody>\n",
       "</table>\n",
       "</div>"
      ],
      "text/plain": [
       "      Area         Item  Year  Yield   Pest Rainfall   Temp\n",
       "0  Albania        Maize  1990  36613  121.0     1485  16.37\n",
       "1  Albania     Potatoes  1990  66667  121.0     1485  16.37\n",
       "2  Albania  Rice, paddy  1990  23333  121.0     1485  16.37\n",
       "3  Albania      Sorghum  1990  12500  121.0     1485  16.37\n",
       "4  Albania     Soybeans  1990   7000  121.0     1485  16.37"
      ]
     },
     "execution_count": 2,
     "metadata": {},
     "output_type": "execute_result"
    }
   ],
   "source": [
    "data=pd.read_csv(\"../data/Final.csv\")\n",
    "data.head(5)"
   ]
  },
  {
   "cell_type": "markdown",
   "id": "dd80b180",
   "metadata": {},
   "source": [
    "# DataFrame Information"
   ]
  },
  {
   "cell_type": "code",
   "execution_count": 3,
   "id": "7c0b0d95",
   "metadata": {},
   "outputs": [
    {
     "name": "stdout",
     "output_type": "stream",
     "text": [
      "<class 'pandas.core.frame.DataFrame'>\n",
      "RangeIndex: 28248 entries, 0 to 28247\n",
      "Data columns (total 7 columns):\n",
      " #   Column    Non-Null Count  Dtype  \n",
      "---  ------    --------------  -----  \n",
      " 0   Area      28248 non-null  object \n",
      " 1   Item      28248 non-null  object \n",
      " 2   Year      28248 non-null  int64  \n",
      " 3   Yield     28248 non-null  int64  \n",
      " 4   Pest      28248 non-null  float64\n",
      " 5   Rainfall  28248 non-null  object \n",
      " 6   Temp      28248 non-null  float64\n",
      "dtypes: float64(2), int64(2), object(3)\n",
      "memory usage: 1.5+ MB\n"
     ]
    }
   ],
   "source": [
    "data.info()"
   ]
  },
  {
   "cell_type": "code",
   "execution_count": 4,
   "id": "48df8d1f",
   "metadata": {},
   "outputs": [
    {
     "data": {
      "text/html": [
       "<div>\n",
       "<style scoped>\n",
       "    .dataframe tbody tr th:only-of-type {\n",
       "        vertical-align: middle;\n",
       "    }\n",
       "\n",
       "    .dataframe tbody tr th {\n",
       "        vertical-align: top;\n",
       "    }\n",
       "\n",
       "    .dataframe thead th {\n",
       "        text-align: right;\n",
       "    }\n",
       "</style>\n",
       "<table border=\"1\" class=\"dataframe\">\n",
       "  <thead>\n",
       "    <tr style=\"text-align: right;\">\n",
       "      <th></th>\n",
       "      <th>Year</th>\n",
       "      <th>Yield</th>\n",
       "      <th>Pest</th>\n",
       "      <th>Temp</th>\n",
       "    </tr>\n",
       "  </thead>\n",
       "  <tbody>\n",
       "    <tr>\n",
       "      <th>count</th>\n",
       "      <td>28248.000000</td>\n",
       "      <td>28248.000000</td>\n",
       "      <td>28248.000000</td>\n",
       "      <td>28248.000000</td>\n",
       "    </tr>\n",
       "    <tr>\n",
       "      <th>mean</th>\n",
       "      <td>2001.541950</td>\n",
       "      <td>77047.863282</td>\n",
       "      <td>37069.136973</td>\n",
       "      <td>20.543722</td>\n",
       "    </tr>\n",
       "    <tr>\n",
       "      <th>std</th>\n",
       "      <td>7.052997</td>\n",
       "      <td>84950.194454</td>\n",
       "      <td>59954.787836</td>\n",
       "      <td>6.311828</td>\n",
       "    </tr>\n",
       "    <tr>\n",
       "      <th>min</th>\n",
       "      <td>1990.000000</td>\n",
       "      <td>50.000000</td>\n",
       "      <td>0.040000</td>\n",
       "      <td>1.300000</td>\n",
       "    </tr>\n",
       "    <tr>\n",
       "      <th>25%</th>\n",
       "      <td>1995.000000</td>\n",
       "      <td>19918.750000</td>\n",
       "      <td>1695.710000</td>\n",
       "      <td>16.710000</td>\n",
       "    </tr>\n",
       "    <tr>\n",
       "      <th>50%</th>\n",
       "      <td>2001.000000</td>\n",
       "      <td>38295.000000</td>\n",
       "      <td>17517.760000</td>\n",
       "      <td>21.510000</td>\n",
       "    </tr>\n",
       "    <tr>\n",
       "      <th>75%</th>\n",
       "      <td>2008.000000</td>\n",
       "      <td>104598.250000</td>\n",
       "      <td>48687.880000</td>\n",
       "      <td>26.000000</td>\n",
       "    </tr>\n",
       "    <tr>\n",
       "      <th>max</th>\n",
       "      <td>2013.000000</td>\n",
       "      <td>501412.000000</td>\n",
       "      <td>367778.000000</td>\n",
       "      <td>30.650000</td>\n",
       "    </tr>\n",
       "  </tbody>\n",
       "</table>\n",
       "</div>"
      ],
      "text/plain": [
       "               Year          Yield           Pest          Temp\n",
       "count  28248.000000   28248.000000   28248.000000  28248.000000\n",
       "mean    2001.541950   77047.863282   37069.136973     20.543722\n",
       "std        7.052997   84950.194454   59954.787836      6.311828\n",
       "min     1990.000000      50.000000       0.040000      1.300000\n",
       "25%     1995.000000   19918.750000    1695.710000     16.710000\n",
       "50%     2001.000000   38295.000000   17517.760000     21.510000\n",
       "75%     2008.000000  104598.250000   48687.880000     26.000000\n",
       "max     2013.000000  501412.000000  367778.000000     30.650000"
      ]
     },
     "execution_count": 4,
     "metadata": {},
     "output_type": "execute_result"
    }
   ],
   "source": [
    "data.describe()"
   ]
  },
  {
   "cell_type": "markdown",
   "id": "f0020ce3",
   "metadata": {},
   "source": [
    "### Checking for Null Values"
   ]
  },
  {
   "cell_type": "code",
   "execution_count": 5,
   "id": "e15c379d",
   "metadata": {},
   "outputs": [
    {
     "data": {
      "text/plain": [
       "Area        0\n",
       "Item        0\n",
       "Year        0\n",
       "Yield       0\n",
       "Pest        0\n",
       "Rainfall    0\n",
       "Temp        0\n",
       "dtype: int64"
      ]
     },
     "execution_count": 5,
     "metadata": {},
     "output_type": "execute_result"
    }
   ],
   "source": [
    "data.isna().sum()"
   ]
  },
  {
   "cell_type": "code",
   "execution_count": 6,
   "id": "88cbde1f",
   "metadata": {},
   "outputs": [
    {
     "data": {
      "text/plain": [
       "Area         object\n",
       "Item         object\n",
       "Year          int64\n",
       "Yield         int64\n",
       "Pest        float64\n",
       "Rainfall     object\n",
       "Temp        float64\n",
       "dtype: object"
      ]
     },
     "execution_count": 6,
     "metadata": {},
     "output_type": "execute_result"
    }
   ],
   "source": [
    "data.dtypes"
   ]
  },
  {
   "cell_type": "code",
   "execution_count": 7,
   "id": "fb9903c2",
   "metadata": {},
   "outputs": [],
   "source": [
    "d = dtale.show(data)"
   ]
  },
  {
   "cell_type": "code",
   "execution_count": 8,
   "id": "c5e91075",
   "metadata": {},
   "outputs": [],
   "source": [
    "d.open_browser()"
   ]
  },
  {
   "cell_type": "code",
   "execution_count": 10,
   "id": "0f84e331",
   "metadata": {},
   "outputs": [
    {
     "name": "stderr",
     "output_type": "stream",
     "text": [
      "2023-03-28 13:49:39,276 - INFO     - Executing shutdown...\n",
      "2023-03-28 13:49:39,278 - ERROR    - Exception on /shutdown [GET]\n",
      "Traceback (most recent call last):\n",
      "  File \"/Users/parthkatiyar/miniforge3/envs/ai/lib/python3.8/site-packages/flask/app.py\", line 2528, in wsgi_app\n",
      "    response = self.full_dispatch_request()\n",
      "  File \"/Users/parthkatiyar/miniforge3/envs/ai/lib/python3.8/site-packages/flask/app.py\", line 1825, in full_dispatch_request\n",
      "    rv = self.handle_user_exception(e)\n",
      "  File \"/Users/parthkatiyar/miniforge3/envs/ai/lib/python3.8/site-packages/flask/app.py\", line 1823, in full_dispatch_request\n",
      "    rv = self.dispatch_request()\n",
      "  File \"/Users/parthkatiyar/miniforge3/envs/ai/lib/python3.8/site-packages/flask/app.py\", line 1799, in dispatch_request\n",
      "    return self.ensure_sync(self.view_functions[rule.endpoint])(**view_args)\n",
      "  File \"/Users/parthkatiyar/miniforge3/envs/ai/lib/python3.8/site-packages/dtale/app.py\", line 435, in shutdown\n",
      "    shutdown_server()\n",
      "  File \"/Users/parthkatiyar/miniforge3/envs/ai/lib/python3.8/site-packages/dtale/app.py\", line 421, in shutdown_server\n",
      "    raise RuntimeError(\"Not running with the Werkzeug Server\")\n",
      "RuntimeError: Not running with the Werkzeug Server\n"
     ]
    }
   ],
   "source": [
    "d.kill()"
   ]
  },
  {
   "cell_type": "code",
   "execution_count": 13,
   "id": "7e41a7b0",
   "metadata": {},
   "outputs": [
    {
     "name": "stderr",
     "output_type": "stream",
     "text": [
      "2023-03-28 13:52:01,971 - INFO     - Pandas backend loaded 1.5.3\n",
      "2023-03-28 13:52:01,974 - INFO     - Numpy backend loaded 1.23.2\n",
      "2023-03-28 13:52:01,975 - INFO     - Pyspark backend NOT loaded\n",
      "2023-03-28 13:52:01,975 - INFO     - Python backend loaded\n"
     ]
    }
   ],
   "source": [
    "from ydata_profiling import ProfileReport"
   ]
  },
  {
   "cell_type": "code",
   "execution_count": 14,
   "id": "cb212a44",
   "metadata": {},
   "outputs": [],
   "source": [
    "report=ProfileReport(data, title=\"Yield Prediction Data Analysis\")"
   ]
  },
  {
   "cell_type": "code",
   "execution_count": 16,
   "id": "cb48f117",
   "metadata": {},
   "outputs": [
    {
     "data": {
      "application/vnd.jupyter.widget-view+json": {
       "model_id": "e63133151e9b436c9e45166ecb0ba534",
       "version_major": 2,
       "version_minor": 0
      },
      "text/plain": [
       "VBox(children=(Tab(children=(Tab(children=(GridBox(children=(VBox(children=(GridspecLayout(children=(HTML(valu…"
      ]
     },
     "metadata": {},
     "output_type": "display_data"
    }
   ],
   "source": [
    "report.to_widgets()"
   ]
  },
  {
   "cell_type": "code",
   "execution_count": 18,
   "id": "4868f243",
   "metadata": {},
   "outputs": [
    {
     "data": {
      "application/vnd.jupyter.widget-view+json": {
       "model_id": "18769dd8c30d43ec855ba9e05638bb80",
       "version_major": 2,
       "version_minor": 0
      },
      "text/plain": [
       "Render HTML:   0%|          | 0/1 [00:00<?, ?it/s]"
      ]
     },
     "metadata": {},
     "output_type": "display_data"
    },
    {
     "name": "stderr",
     "output_type": "stream",
     "text": [
      "/Users/parthkatiyar/miniforge3/envs/ai/lib/python3.8/site-packages/ydata_profiling/profile_report.py:355: UserWarning:\n",
      "\n",
      "Extension .pdf not supported. For now we assume .html was intended. To remove this warning, please use .html or .json.\n",
      "\n"
     ]
    },
    {
     "data": {
      "application/vnd.jupyter.widget-view+json": {
       "model_id": "74895a3ba99e443cb5588841336be9c2",
       "version_major": 2,
       "version_minor": 0
      },
      "text/plain": [
       "Export report to file:   0%|          | 0/1 [00:00<?, ?it/s]"
      ]
     },
     "metadata": {},
     "output_type": "display_data"
    }
   ],
   "source": [
    "report.to_file(\"./EDAReport.pdf\")"
   ]
  },
  {
   "cell_type": "markdown",
   "id": "9de2fffb",
   "metadata": {},
   "source": [
    "# ⚠️InDepth Analysis\n"
   ]
  },
  {
   "cell_type": "code",
   "execution_count": null,
   "id": "bcbdc3ef",
   "metadata": {},
   "outputs": [],
   "source": []
  },
  {
   "cell_type": "markdown",
   "id": "18f60cdb",
   "metadata": {},
   "source": [
    "# ⚠️ Visualization"
   ]
  },
  {
   "cell_type": "code",
   "execution_count": null,
   "id": "b0bf0f73",
   "metadata": {},
   "outputs": [],
   "source": []
  }
 ],
 "metadata": {
  "kernelspec": {
   "display_name": "Python 3 (ipykernel)",
   "language": "python",
   "name": "python3"
  },
  "language_info": {
   "codemirror_mode": {
    "name": "ipython",
    "version": 3
   },
   "file_extension": ".py",
   "mimetype": "text/x-python",
   "name": "python",
   "nbconvert_exporter": "python",
   "pygments_lexer": "ipython3",
   "version": "3.8.15"
  }
 },
 "nbformat": 4,
 "nbformat_minor": 5
}
